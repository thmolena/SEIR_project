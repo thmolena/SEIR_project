{
 "cells": [
  {
   "cell_type": "code",
   "execution_count": null,
   "metadata": {},
   "outputs": [],
   "source": [
    "from model import *\n",
    "import matplotlib.pyplot as plt\n",
    "import numpy as np\n",
    "import pandas as pd\n",
    "%matplotlib inline\n",
    "import plotly.express as px\n",
    "import csv"
   ]
  },
  {
   "cell_type": "code",
   "execution_count": null,
   "metadata": {},
   "outputs": [],
   "source": [
    "# model = DiseaseModel(10)\n",
    "# for i in range (10):\n",
    "#     model.step()\n",
    "\n",
    "# disease_spread = [a.state for a in model.schedule.agents]\n",
    "\n",
    "# plt.hist(disease_spread)\n",
    "\n",
    "# disease_total = []\n",
    "# for j in range(100):\n",
    "#     model = DiseaseModel(10)\n",
    "#     for i in range(10):\n",
    "#         model.step()\n",
    "\n",
    "#     for agent in model.schedule.agents:\n",
    "#         disease_total.append(agent.state)\n",
    "\n",
    "# plt.hist(disease_total, bins=range(max(disease_total)+1))"
   ]
  },
  {
   "cell_type": "code",
   "execution_count": null,
   "metadata": {},
   "outputs": [],
   "source": [
    "# number_of_people = 100\n",
    "# width_of_grid = 30\n",
    "# height_of_grid = 30\n",
    "# number_of_iterations = 30\n",
    "# mu_2 = 0.05\n",
    "# mu_3 = 0.15\n",
    "# mu_1 = 1 - mu_2 - mu_3 \n",
    "# delta_1 = 0.1\n",
    "# delta_2 = 0\n",
    "# delta_3 = 0\n",
    "# delta_4 = 0\n",
    "# beta_12 = 0.5\n",
    "# beta_13 = 0.4\n",
    "# beta_21 = 0.3\n",
    "# beta_23 = 0.2\n",
    "# beta_34 = 0.1\n",
    "# epsilon_12 = 1 \n",
    "# epsilon_13 = 2 \n",
    "# epsilon_21 = 3\n",
    "# epsilon_23 = 4\n",
    "# epsilon_34 = 5\n",
    "# theta_12 = 0.1\n",
    "# theta_13 = 0.2\n",
    "# theta_21 = 0.3\n",
    "# theta_23 = 0.4\n",
    "# theta_34 = 0.5\n",
    "# sigma_12 = 0.06\n",
    "# sigma_13 = 0.07\n",
    "# sigma_21 = 0.08\n",
    "# sigma_23 = 0.09\n",
    "# sigma_34 = 0.1\n",
    "    \n",
    "\n",
    "# model = DiseaseModel(number_of_people, width_of_grid, height_of_grid, width_of_grid - 1, height_of_grid - 1,  mu_1, mu_2, mu_3, delta_1, delta_2, delta_3, delta_4, beta_12, beta_13, beta_21, beta_23, beta_34, epsilon_12, epsilon_13, epsilon_21, epsilon_23, epsilon_34, theta_12, theta_13, theta_21, theta_23, theta_34, sigma_12, sigma_13, sigma_21, sigma_23, sigma_34)\n",
    "# for i in range(number_of_iterations):\n",
    "#     model.step()"
   ]
  },
  {
   "cell_type": "code",
   "execution_count": null,
   "metadata": {},
   "outputs": [],
   "source": [
    "# Simulation model parameters\n",
    "# model_params = {\n",
    "#     'no_agents': UserSettableParameter(\n",
    "#         'number', 'Number of agents', 100, 5, 5000, 5),\n",
    "#     'width': 50,\n",
    "#     'height': 50,\n",
    "#     'init_infected': UserSettableParameter(\n",
    "#         'slider', '% of initial pop. infected', 0.2, 0, 1, 0.05),\n",
    "#     'perc_masked': UserSettableParameter(\n",
    "#         'slider', '% masked', 0.5, 0, 1, 0.05),\n",
    "#     'prob_trans_masked': UserSettableParameter(\n",
    "#         'slider', 'Transmission prob. masked', 0.25, 0, 1, 0.05),\n",
    "#     'prob_trans_unmasked': UserSettableParameter(\n",
    "#         'slider', 'Transmission prob. unmasked', 0.75, 0, 1, 0.05),\n",
    "#     'infection_period': UserSettableParameter(\n",
    "#         'slider', '# simulation steps to move from infection to recovery', 50, 5, 200, 5),\n",
    "#     'immunity_period': UserSettableParameter(\n",
    "#         'slider', '# simulation steps before immunity is gone', 200, 10, 1000, 10)\n",
    "# }\n",
    "\n",
    "no_agents = 100\n",
    "width = 50\n",
    "height = 50\n",
    "init_infected = 0.2\n",
    "perc_masked = 0.5\n",
    "prob_trans_masked = 0,25\n",
    "prob_trans_unmasked = 0.75\n",
    "infection_period = 50\n",
    "immunity_period = 200\n",
    "number_of_iterations = 10\n",
    "\n",
    "model = DiseaseModel(no_agents, width, height,\n",
    "                 init_infected, perc_masked, prob_trans_masked,\n",
    "                 prob_trans_unmasked, infection_period, immunity_period)\n",
    "\n",
    "\n",
    "# for i in range(number_of_iterations):\n",
    "#     model.step()\n"
   ]
  },
  {
   "cell_type": "code",
   "execution_count": null,
   "metadata": {},
   "outputs": [],
   "source": [
    "agent_counts = np.zeros((model.grid.width, model.grid.height))\n",
    "for cell in model.grid.coord_iter():\n",
    "    cell_content, x, y = cell\n",
    "    \n",
    "    agent_count = len(cell_content)\n",
    "    agent_counts[x][y] = agent_count\n",
    "plt.figure()\n",
    "plt.imshow(agent_counts, interpolation='nearest', origin = 'lower')\n",
    "# plt.imshow(agent_counts, interpolation='nearest')\n",
    "plt.colorbar()  \n",
    "\n",
    "\n",
    "# the_agents = []\n",
    "# plt.figure()\n",
    "# index = 1\n",
    "# for i in range (3):\n",
    "#     for j in range(3):\n",
    "#         agent_counts_1 = np.zeros((int(model.grid.width/3), int(model.grid.height/3)))\n",
    "    \n",
    "#         for i1 in range(30):\n",
    "#             for j1 in range(30):\n",
    "#                 agent_counts_1[i1][j1] = agent_counts[i1+ 30*i][j1+ 30*j]\n",
    "#                 plt.subplot(3, 3, index)\n",
    "#             plt.imshow(agent_counts_1, interpolation='nearest', origin = 'lower')\n",
    "#             plt.colorbar()\n",
    "#         the_agents.append(agent_counts_1)\n",
    "#         index+= 1                \n",
    "\n",
    "\n",
    "\n",
    "# the_agents = []\n",
    "# plt.figure()\n",
    "# index = 1\n",
    "# for i in range (3):\n",
    "#     for j in range(3):\n",
    "#         agent_counts_1 = np.zeros((int(model.grid.width/3), int(model.grid.height/3)))\n",
    "    \n",
    "#         for i1 in range(10):\n",
    "#             for j1 in range(10):\n",
    "#                 agent_counts_1[i1][j1] = agent_counts[i1+ 10*i][j1+ 10*j]\n",
    "#                 plt.subplot(3, 3, index)\n",
    "#             plt.imshow(agent_counts_1, interpolation='nearest', origin = 'lower')\n",
    "#             plt.colorbar()\n",
    "#         the_agents.append(agent_counts_1)\n",
    "#         index+= 1                "
   ]
  },
  {
   "cell_type": "code",
   "execution_count": null,
   "metadata": {},
   "outputs": [],
   "source": [
    "import itertools\n",
    "agent_reporters = model.datacollector.get_model_vars_dataframe()\n",
    "print(agent_reporters)\n",
    "# l = agent_reporters.values.tolist()\n",
    "# plt.figure()\n",
    "# merged = pd.DataFrame(list(itertools.chain.from_iterable(l)))\n",
    "# merged.plot()\n",
    "\n",
    "\n",
    "model_reporters = model.datacollector.get_agent_vars_dataframe()\n",
    "print(model_reporters)\n",
    "\n",
    "# # # save the agent data to CSV\n",
    "# # agent_reporters.to_csv(\"agent_data.csv\")\n",
    "\n",
    "# # # save the model data to CSV.\n",
    "# # model_reporters.to_csv(\"model_data.csv\")\n"
   ]
  },
  {
   "cell_type": "code",
   "execution_count": null,
   "metadata": {},
   "outputs": [],
   "source": [
    "%run model_visualization.py"
   ]
  },
  {
   "cell_type": "code",
   "execution_count": null,
   "metadata": {},
   "outputs": [],
   "source": [
    "# from mesa.batchrunner import BatchRunner"
   ]
  },
  {
   "cell_type": "code",
   "execution_count": null,
   "metadata": {},
   "outputs": [],
   "source": [
    "# fixed_params = {\"width\": 50,\n",
    "#                \"height\": 50}\n",
    "# variable_params = {\"N\": range(10, 510, 10)}\n",
    "\n",
    "# batch_run = BatchRunner(DiseaseModel,\n",
    "#                         variable_params,\n",
    "#                         fixed_params,\n",
    "#                         iterations=5,\n",
    "#                         max_steps=100,\n",
    "#                         model_reporters={\"Current State\": infection_rates})\n",
    "# batch_run.run_all()"
   ]
  },
  {
   "cell_type": "code",
   "execution_count": null,
   "metadata": {},
   "outputs": [],
   "source": [
    "# run_data = batch_run.get_model_vars_dataframe()\n",
    "# populations = run_data[\"Current State\"].values.tolist()\n",
    "# merged_pop = pd.DataFrame(populations)\n",
    "# merged_pop.plot()\n",
    "# merged_pop.head\n",
    "# plt.scatter(run_data.N, run_data.Gini)"
   ]
  },
  {
   "cell_type": "code",
   "execution_count": null,
   "metadata": {},
   "outputs": [],
   "source": [
    "import os\n",
    "working_directory = os.getcwd()\n",
    "print(working_directory)"
   ]
  },
  {
   "cell_type": "code",
   "execution_count": null,
   "metadata": {},
   "outputs": [],
   "source": [
    "path = working_directory+'/agent_data.csv'\n",
    "df = pd.read_csv(path)"
   ]
  },
  {
   "cell_type": "code",
   "execution_count": null,
   "metadata": {},
   "outputs": [],
   "source": [
    "df.head()"
   ]
  },
  {
   "cell_type": "code",
   "execution_count": null,
   "metadata": {},
   "outputs": [],
   "source": [
    "print(df)"
   ]
  },
  {
   "cell_type": "code",
   "execution_count": null,
   "metadata": {},
   "outputs": [],
   "source": [
    "display(df.iloc[2])"
   ]
  },
  {
   "cell_type": "code",
   "execution_count": null,
   "metadata": {},
   "outputs": [],
   "source": [
    "df.shape"
   ]
  },
  {
   "cell_type": "code",
   "execution_count": null,
   "metadata": {},
   "outputs": [],
   "source": [
    "the_new_dictionary = pd.read_csv('agent_data.csv', header=None, index_col=0).to_dict()"
   ]
  },
  {
   "cell_type": "code",
   "execution_count": null,
   "metadata": {},
   "outputs": [],
   "source": [
    "columns = []\n",
    "for column in df:\n",
    "    columns.append(column)\n",
    "print(columns)"
   ]
  },
  {
   "cell_type": "code",
   "execution_count": null,
   "metadata": {},
   "outputs": [],
   "source": [
    "print(columns[0])"
   ]
  },
  {
   "cell_type": "code",
   "execution_count": null,
   "metadata": {},
   "outputs": [],
   "source": [
    "df['Current State'].describe()"
   ]
  },
  {
   "cell_type": "code",
   "execution_count": null,
   "metadata": {},
   "outputs": [],
   "source": [
    "import csv\n",
    "the_rows_in_agent = []\n",
    "# Open file \n",
    "with open('agent_data.csv') as file_obj:\n",
    "      \n",
    "    # Create reader object by passing the file \n",
    "    # object to reader method\n",
    "    reader_obj = csv.reader(file_obj)\n",
    "      \n",
    "    # Iterate over each row in the csv \n",
    "    # file using reader object\n",
    "    for row in reader_obj:\n",
    "        the_rows_in_agent.append(row)"
   ]
  },
  {
   "cell_type": "code",
   "execution_count": null,
   "metadata": {},
   "outputs": [],
   "source": [
    "print(len(the_rows_in_agent))"
   ]
  },
  {
   "cell_type": "code",
   "execution_count": null,
   "metadata": {},
   "outputs": [],
   "source": [
    "print(the_rows_in_agent[0])"
   ]
  },
  {
   "cell_type": "code",
   "execution_count": null,
   "metadata": {},
   "outputs": [],
   "source": [
    "print(the_rows_in_agent[1])"
   ]
  },
  {
   "cell_type": "code",
   "execution_count": null,
   "metadata": {},
   "outputs": [],
   "source": []
  },
  {
   "cell_type": "code",
   "execution_count": null,
   "metadata": {},
   "outputs": [],
   "source": [
    "path = working_directory+'/model_data.csv'\n",
    "df_1 = pd.read_csv(path)"
   ]
  },
  {
   "cell_type": "code",
   "execution_count": null,
   "metadata": {},
   "outputs": [],
   "source": [
    "display(df_1.iloc[2])"
   ]
  },
  {
   "cell_type": "code",
   "execution_count": null,
   "metadata": {},
   "outputs": [],
   "source": [
    "df_1.shape"
   ]
  },
  {
   "cell_type": "code",
   "execution_count": null,
   "metadata": {},
   "outputs": [],
   "source": [
    "df_1.head()"
   ]
  },
  {
   "cell_type": "code",
   "execution_count": null,
   "metadata": {},
   "outputs": [],
   "source": [
    "columns = []\n",
    "for column in df_1:\n",
    "    columns.append(column)\n",
    "print(columns)"
   ]
  },
  {
   "cell_type": "code",
   "execution_count": null,
   "metadata": {},
   "outputs": [],
   "source": [
    "import csv\n",
    "  \n",
    "# Open file \n",
    "the_rows_in_model = []\n",
    "with open('model_data.csv') as file_obj:\n",
    "      \n",
    "    # Create reader object by passing the file \n",
    "    # object to reader method\n",
    "    reader_obj = csv.reader(file_obj)\n",
    "      \n",
    "    # Iterate over each row in the csv \n",
    "    # file using reader object\n",
    "    \n",
    "    for row in reader_obj:\n",
    "        the_rows_in_model.append(row)"
   ]
  },
  {
   "cell_type": "code",
   "execution_count": null,
   "metadata": {},
   "outputs": [],
   "source": []
  },
  {
   "cell_type": "code",
   "execution_count": null,
   "metadata": {},
   "outputs": [],
   "source": []
  },
  {
   "cell_type": "code",
   "execution_count": null,
   "metadata": {},
   "outputs": [],
   "source": []
  },
  {
   "cell_type": "code",
   "execution_count": null,
   "metadata": {},
   "outputs": [],
   "source": []
  }
 ],
 "metadata": {
  "kernelspec": {
   "display_name": "Python 3 (ipykernel)",
   "language": "python",
   "name": "python3"
  },
  "language_info": {
   "codemirror_mode": {
    "name": "ipython",
    "version": 3
   },
   "file_extension": ".py",
   "mimetype": "text/x-python",
   "name": "python",
   "nbconvert_exporter": "python",
   "pygments_lexer": "ipython3",
   "version": "3.9.16"
  }
 },
 "nbformat": 4,
 "nbformat_minor": 4
}
