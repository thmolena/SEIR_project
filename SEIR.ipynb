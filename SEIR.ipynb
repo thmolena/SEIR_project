{
 "cells": [
  {
   "cell_type": "code",
   "execution_count": null,
   "metadata": {},
   "outputs": [],
   "source": [
    "from disease_model import *\n",
    "import matplotlib.pyplot as plt\n",
    "import numpy as np\n",
    "import pandas as pd\n",
    "%matplotlib inline\n",
    "import plotly.express as px\n",
    "import csv\n",
    "\n",
    "from itertools import cycle\n",
    "import random\n",
    "import math\n",
    "import scipy.stats as ss\n",
    "\n",
    "import numpy as np\n",
    "from scipy.integrate import odeint\n",
    "import matplotlib.pyplot as plt"
   ]
  },
  {
   "cell_type": "code",
   "execution_count": null,
   "metadata": {},
   "outputs": [],
   "source": [
    "# model = DiseaseModel(10)\n",
    "# for i in range (10):\n",
    "#     model.step()\n",
    "\n",
    "# disease_spread = [a.state for a in model.schedule.agents]\n",
    "\n",
    "# plt.hist(disease_spread)\n",
    "\n",
    "# disease_total = []\n",
    "# for j in range(100):\n",
    "#     model = DiseaseModel(10)\n",
    "#     for i in range(10):\n",
    "#         model.step()\n",
    "\n",
    "#     for agent in model.schedule.agents:\n",
    "#         disease_total.append(agent.state)\n",
    "\n",
    "# plt.hist(disease_total, bins=range(max(disease_total)+1))"
   ]
  },
  {
   "cell_type": "code",
   "execution_count": null,
   "metadata": {},
   "outputs": [],
   "source": [
    "N = 10\n",
    "# Parameter values\n",
    "t_incubation = 3\n",
    "t_infective = 8\n",
    "\n",
    "\n",
    "\n",
    "# Initial number of infected and recovered individuals\n",
    "e_initial = 2\n",
    "i_initial = 3\n",
    "r_initial = 0\n",
    "s_initial = N - e_initial - i_initial - r_initial\n",
    "\n",
    "epsilon = 1/t_incubation\n",
    "gamma = 1/t_infective\n",
    "alpha = 0.0005\n",
    "beta = 0.85\n",
    "mu = 0.05\n",
    "\n",
    "# SEIR model differential equations.\n",
    "def deriv(x, t, mu, alpha, beta, gamma, epsilon ):\n",
    "    s, e, i, r = x\n",
    "    dsdt = mu*N - mu * s - beta * s * (i/N)\n",
    "    dedt =  beta * s * (i/N) - (mu + epsilon)* e\n",
    "    didt = epsilon * e - (gamma + mu + alpha) * i\n",
    "    drdt =  gamma * i - mu * r\n",
    "    return [dsdt, dedt, didt, drdt]\n",
    "\n",
    "t = np.linspace(0, 10, 10)\n",
    "x_initial = s_initial, e_initial, i_initial, r_initial\n",
    "soln = odeint(deriv, x_initial, t, args=(mu, alpha, beta, gamma, epsilon))\n",
    "s, e, i, r = soln.T\n",
    "plt.plot(t,s, 'b')\n",
    "plt.plot(t,e, 'r')\n",
    "plt.plot(t,i, 'g')\n",
    "plt.plot(t,r, 'k')\n",
    "plt.legend(['S(t)', 'E(t)', 'I(t)', 'R(t)'])\n",
    "\n",
    "new_S = []\n",
    "new_E = []\n",
    "new_I = []\n",
    "new_R = []\n",
    "for j in range(10):\n",
    "    new_S.append(math.floor(s[j]))\n",
    "    new_E.append(math.floor(e[j]))\n",
    "    new_I.append(math.floor(i[j]))\n",
    "    new_R.append(10-new_S[j]-new_E[j]-new_I[j])"
   ]
  },
  {
   "cell_type": "code",
   "execution_count": null,
   "metadata": {},
   "outputs": [],
   "source": [
    "plt.plot(t,new_S, 'b')\n",
    "plt.plot(t,new_E, 'r')\n",
    "plt.plot(t,new_I, 'g')\n",
    "plt.plot(t,new_R, 'k')\n",
    "plt.legend(['S(t)', 'E(t)', 'I(t)', 'R(t)'])"
   ]
  },
  {
   "cell_type": "code",
   "execution_count": null,
   "metadata": {},
   "outputs": [],
   "source": [
    "for i in range(10):\n",
    "    print(\"i: \", i)\n",
    "    print(new_S[i])\n",
    "    print(new_E[i])\n",
    "    print(new_I[i])\n",
    "    print(new_R[i])"
   ]
  },
  {
   "cell_type": "code",
   "execution_count": null,
   "metadata": {},
   "outputs": [],
   "source": [
    "#Initiating with at t_0 : S and E (no Infected at t = 0 days)\n",
    "# Case 1: Infection 0 in the region at t = 0\n",
    "# Case 2: Infection not 0 in the region at t = 0\n",
    "# Exposed turns Infected or Susceptible after a number of days\n",
    "\n",
    "\n",
    "\n",
    "number_of_people = 800\n",
    "width_of_grid = 30\n",
    "height_of_grid = 30\n",
    "number_of_iterations = 10\n",
    "\n",
    "mu_2 = 0.2\n",
    "mu_3 = 0.3\n",
    "mu_1 = 1 - mu_2 - mu_3\n",
    "\n",
    "delta_1 = 0.1\n",
    "delta_2 = 0\n",
    "delta_3 = 0\n",
    "delta_4 = 0\n",
    "\n",
    "beta_12 = 0.9/5\n",
    "beta_13 = 0.4/5\n",
    "beta_21 = 0.5/5\n",
    "beta_23 = 0.4/5\n",
    "beta_34 = 0.5/5\n",
    "\n",
    "epsilon_12 = 2\n",
    "epsilon_13 = 2 \n",
    "epsilon_21 = 10\n",
    "epsilon_23 = 3\n",
    "epsilon_34 = 5\n",
    "\n",
    "theta_12 = 0.9\n",
    "theta_13 = 0.2\n",
    "theta_21 = 0.3\n",
    "theta_23 = 0.4\n",
    "theta_34 = 0.5\n",
    "\n",
    "sigma_12 = 0.06\n",
    "sigma_13 = 0.07\n",
    "sigma_21 = 0.08\n",
    "sigma_23 = 0.09\n",
    "sigma_34 = 0.1\n",
    "    \n",
    "\n",
    "model = DiseaseModel(number_of_people, width_of_grid, height_of_grid, width_of_grid - 1, height_of_grid - 1,  mu_1, mu_2, mu_3, delta_1, delta_2, delta_3, delta_4, beta_12, beta_13, beta_21, beta_23, beta_34, epsilon_12, epsilon_13, epsilon_21, epsilon_23, epsilon_34, theta_12, theta_13, theta_21, theta_23, theta_34, sigma_12, sigma_13, sigma_21, sigma_23, sigma_34)\n",
    "for i in range(number_of_iterations):\n",
    "    model.step()\n",
    "\n",
    "# Parametric coefficient_a/coefficient_b (with I_t)\n",
    "# If the infection curve is sensitive to some parameters\n",
    "# Subdomains\n",
    "# Thursday: meeting at 3:00 pm \n",
    "# Find the parameters which infects I_t (mainly)\n",
    "# Minimum number of agents"
   ]
  },
  {
   "cell_type": "code",
   "execution_count": null,
   "metadata": {},
   "outputs": [],
   "source": [
    "agent_counts = np.zeros((model.grid.width, model.grid.height))\n",
    "for cell in model.grid.coord_iter():\n",
    "    cell_content, x, y = cell\n",
    "    \n",
    "    agent_count = len(cell_content)\n",
    "    agent_counts[x][y] = agent_count\n",
    "plt.figure()\n",
    "plt.imshow(agent_counts, interpolation='nearest', origin = 'lower')\n",
    "# plt.imshow(agent_counts, interpolation='nearest')\n",
    "plt.colorbar()  \n",
    "\n",
    "\n",
    "the_agents = []\n",
    "plt.figure()\n",
    "index = 1\n",
    "for i in range (3):\n",
    "    for j in range(3):\n",
    "        agent_counts_1 = np.zeros((int(model.grid.width/3), int(model.grid.height/3)))\n",
    "    \n",
    "        for i1 in range(30):\n",
    "            for j1 in range(30):\n",
    "                agent_counts_1[i1][j1] = agent_counts[i1+ 30*i][j1+ 30*j]\n",
    "                plt.subplot(3, 3, index)\n",
    "            plt.imshow(agent_counts_1, interpolation='nearest', origin = 'lower')\n",
    "            plt.colorbar()\n",
    "        the_agents.append(agent_counts_1)\n",
    "        index+= 1                \n",
    "\n",
    "\n",
    "\n",
    "the_agents = []\n",
    "plt.figure()\n",
    "index = 1\n",
    "for i in range (3):\n",
    "    for j in range(3):\n",
    "        agent_counts_1 = np.zeros((int(model.grid.width/3), int(model.grid.height/3)))\n",
    "    \n",
    "        for i1 in range(10):\n",
    "            for j1 in range(10):\n",
    "                agent_counts_1[i1][j1] = agent_counts[i1+ 10*i][j1+ 10*j]\n",
    "                plt.subplot(3, 3, index)\n",
    "            plt.imshow(agent_counts_1, interpolation='nearest', origin = 'lower')\n",
    "            plt.colorbar()\n",
    "        the_agents.append(agent_counts_1)\n",
    "        index+= 1                "
   ]
  },
  {
   "cell_type": "code",
   "execution_count": null,
   "metadata": {},
   "outputs": [],
   "source": [
    "import itertools\n",
    "agent_reporters = model.datacollector.get_model_vars_dataframe()\n",
    "print(agent_reporters)\n",
    "\n",
    "# state_S = agent_reporters[\"S\"]\n",
    "# state_S.plot(legend='S')\n",
    "\n",
    "# state_E = agent_reporters[\"E\"]\n",
    "# state_E.plot(legend='E')\n",
    "\n",
    "state_I = agent_reporters[\"I\"]\n",
    "\n",
    "#[ beta_12, beta_13, beta_21, beta_23, beta_34,   \n",
    "state_I.plot(legend='I', title = \"[ \" +str(beta_12) + str(\", \") +str(beta_13) + str(\", \") \n",
    "             +str(beta_21) + str(\", \") +str(beta_23) + str(\", \") +str(beta_34) + str(\", \") \n",
    "            +str(epsilon_12) + str(\", \") +str(epsilon_13) + str(\", \") +str(epsilon_21) + str(\", \")\n",
    "             +str(epsilon_23) + str(\", \") +str(epsilon_34) + str(\" ]\")  )\n",
    "\n",
    "# state_R = agent_reporters[\"R\"]\n",
    "# state_R.plot(legend='R')\n",
    "\n",
    "\n",
    "# l = agent_reporters.values.tolist()\n",
    "# plt.figure()\n",
    "#merged = pd.DataFrame(list(itertools.chain.from_iterable(l)))\n",
    "#merged.plot()\n",
    "\n",
    "\n",
    "# model_reporters = model.datacollector.get_agent_vars_dataframe()\n",
    "# print(model_reporters)\n",
    "\n",
    "# # save the agent data to CSV\n",
    "# agent_reporters.to_csv(\"agent_data.csv\")\n",
    "\n",
    "# # save the model data to CSV.\n",
    "# model_reporters.to_csv(\"model_data.csv\")\n"
   ]
  },
  {
   "cell_type": "code",
   "execution_count": null,
   "metadata": {},
   "outputs": [],
   "source": [
    "%run disease_model_viz.py"
   ]
  },
  {
   "cell_type": "code",
   "execution_count": null,
   "metadata": {},
   "outputs": [],
   "source": [
    "from mesa.batchrunner import BatchRunner"
   ]
  },
  {
   "cell_type": "code",
   "execution_count": null,
   "metadata": {},
   "outputs": [],
   "source": [
    "fixed_params = {\"width\": 50,\n",
    "               \"height\": 50}\n",
    "variable_params = {\"N\": range(10, 510, 10)}\n",
    "\n",
    "batch_run = BatchRunner(DiseaseModel,\n",
    "                        variable_params,\n",
    "                        fixed_params,\n",
    "                        iterations=5,\n",
    "                        max_steps=100,\n",
    "                        model_reporters={\"Current State\": infection_rates})\n",
    "batch_run.run_all()"
   ]
  },
  {
   "cell_type": "code",
   "execution_count": null,
   "metadata": {},
   "outputs": [],
   "source": [
    "run_data = batch_run.get_model_vars_dataframe()\n",
    "populations = run_data[\"Current State\"].values.tolist()\n",
    "merged_pop = pd.DataFrame(populations)\n",
    "merged_pop.plot()\n",
    "merged_pop.head\n",
    "plt.scatter(run_data.N, run_data.Gini)"
   ]
  },
  {
   "cell_type": "code",
   "execution_count": null,
   "metadata": {},
   "outputs": [],
   "source": [
    "import os\n",
    "working_directory = os.getcwd()\n",
    "print(working_directory)"
   ]
  },
  {
   "cell_type": "code",
   "execution_count": null,
   "metadata": {},
   "outputs": [],
   "source": [
    "path = working_directory+'/agent_data.csv'\n",
    "df = pd.read_csv(path)"
   ]
  },
  {
   "cell_type": "code",
   "execution_count": null,
   "metadata": {},
   "outputs": [],
   "source": [
    "df.head()"
   ]
  },
  {
   "cell_type": "code",
   "execution_count": null,
   "metadata": {},
   "outputs": [],
   "source": [
    "print(df)"
   ]
  },
  {
   "cell_type": "code",
   "execution_count": null,
   "metadata": {},
   "outputs": [],
   "source": [
    "display(df.iloc[2])"
   ]
  },
  {
   "cell_type": "code",
   "execution_count": null,
   "metadata": {},
   "outputs": [],
   "source": [
    "df.shape"
   ]
  },
  {
   "cell_type": "code",
   "execution_count": null,
   "metadata": {},
   "outputs": [],
   "source": [
    "the_new_dictionary = pd.read_csv('agent_data.csv', header=None, index_col=0).to_dict()"
   ]
  },
  {
   "cell_type": "code",
   "execution_count": null,
   "metadata": {},
   "outputs": [],
   "source": [
    "columns = []\n",
    "for column in df:\n",
    "    columns.append(column)\n",
    "print(columns)"
   ]
  },
  {
   "cell_type": "code",
   "execution_count": null,
   "metadata": {},
   "outputs": [],
   "source": [
    "print(columns[0])"
   ]
  },
  {
   "cell_type": "code",
   "execution_count": null,
   "metadata": {},
   "outputs": [],
   "source": [
    "df['Current State'].describe()"
   ]
  },
  {
   "cell_type": "code",
   "execution_count": null,
   "metadata": {},
   "outputs": [],
   "source": [
    "import csv\n",
    "the_rows_in_agent = []\n",
    "# Open file \n",
    "with open('agent_data.csv') as file_obj:\n",
    "      \n",
    "    # Create reader object by passing the file \n",
    "    # object to reader method\n",
    "    reader_obj = csv.reader(file_obj)\n",
    "      \n",
    "    # Iterate over each row in the csv \n",
    "    # file using reader object\n",
    "    for row in reader_obj:\n",
    "        the_rows_in_agent.append(row)"
   ]
  },
  {
   "cell_type": "code",
   "execution_count": null,
   "metadata": {},
   "outputs": [],
   "source": [
    "print(len(the_rows_in_agent))"
   ]
  },
  {
   "cell_type": "code",
   "execution_count": null,
   "metadata": {},
   "outputs": [],
   "source": [
    "print(the_rows_in_agent[0])"
   ]
  },
  {
   "cell_type": "code",
   "execution_count": null,
   "metadata": {},
   "outputs": [],
   "source": [
    "print(the_rows_in_agent[1])"
   ]
  },
  {
   "cell_type": "code",
   "execution_count": null,
   "metadata": {},
   "outputs": [],
   "source": []
  },
  {
   "cell_type": "code",
   "execution_count": null,
   "metadata": {},
   "outputs": [],
   "source": []
  },
  {
   "cell_type": "code",
   "execution_count": null,
   "metadata": {},
   "outputs": [],
   "source": []
  },
  {
   "cell_type": "code",
   "execution_count": null,
   "metadata": {},
   "outputs": [],
   "source": []
  },
  {
   "cell_type": "code",
   "execution_count": null,
   "metadata": {},
   "outputs": [],
   "source": []
  },
  {
   "cell_type": "code",
   "execution_count": null,
   "metadata": {},
   "outputs": [],
   "source": []
  },
  {
   "cell_type": "code",
   "execution_count": null,
   "metadata": {},
   "outputs": [],
   "source": [
    "path = working_directory+'/model_data.csv'\n",
    "df_1 = pd.read_csv(path)"
   ]
  },
  {
   "cell_type": "code",
   "execution_count": null,
   "metadata": {},
   "outputs": [],
   "source": [
    "display(df_1.iloc[2])"
   ]
  },
  {
   "cell_type": "code",
   "execution_count": null,
   "metadata": {},
   "outputs": [],
   "source": [
    "df_1.shape"
   ]
  },
  {
   "cell_type": "code",
   "execution_count": null,
   "metadata": {},
   "outputs": [],
   "source": [
    "df_1.head()"
   ]
  },
  {
   "cell_type": "code",
   "execution_count": null,
   "metadata": {},
   "outputs": [],
   "source": [
    "columns = []\n",
    "for column in df_1:\n",
    "    columns.append(column)\n",
    "print(columns)"
   ]
  },
  {
   "cell_type": "code",
   "execution_count": null,
   "metadata": {},
   "outputs": [],
   "source": [
    "import csv\n",
    "  \n",
    "# Open file \n",
    "the_rows_in_model = []\n",
    "with open('model_data.csv') as file_obj:\n",
    "      \n",
    "    # Create reader object by passing the file \n",
    "    # object to reader method\n",
    "    reader_obj = csv.reader(file_obj)\n",
    "      \n",
    "    # Iterate over each row in the csv \n",
    "    # file using reader object\n",
    "    \n",
    "    for row in reader_obj:\n",
    "        the_rows_in_model.append(row)"
   ]
  },
  {
   "cell_type": "code",
   "execution_count": null,
   "metadata": {},
   "outputs": [],
   "source": [
    "print(len(the_rows_in_model))"
   ]
  },
  {
   "cell_type": "code",
   "execution_count": null,
   "metadata": {},
   "outputs": [],
   "source": [
    "print(the_rows_in_model[0])"
   ]
  },
  {
   "cell_type": "code",
   "execution_count": null,
   "metadata": {},
   "outputs": [],
   "source": [
    "print(the_rows_in_model[1:51])"
   ]
  },
  {
   "cell_type": "code",
   "execution_count": null,
   "metadata": {},
   "outputs": [],
   "source": []
  },
  {
   "cell_type": "code",
   "execution_count": null,
   "metadata": {},
   "outputs": [],
   "source": []
  },
  {
   "cell_type": "code",
   "execution_count": null,
   "metadata": {},
   "outputs": [],
   "source": []
  },
  {
   "cell_type": "code",
   "execution_count": null,
   "metadata": {},
   "outputs": [],
   "source": []
  }
 ],
 "metadata": {
  "kernelspec": {
   "display_name": "Python 3",
   "language": "python",
   "name": "python3"
  },
  "language_info": {
   "codemirror_mode": {
    "name": "ipython",
    "version": 3
   },
   "file_extension": ".py",
   "mimetype": "text/x-python",
   "name": "python",
   "nbconvert_exporter": "python",
   "pygments_lexer": "ipython3",
   "version": "3.7.13"
  }
 },
 "nbformat": 4,
 "nbformat_minor": 4
}
